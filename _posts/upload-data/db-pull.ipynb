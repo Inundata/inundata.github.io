{
 "cells": [
  {
   "cell_type": "code",
   "execution_count": 1,
   "metadata": {},
   "outputs": [],
   "source": [
    "import pandas as pd\n",
    "import numpy as np\n",
    "\n",
    "from datetime import datetime\n",
    "from dateutil.relativedelta import relativedelta\n",
    "\n",
    "from pathlib import Path\n",
    "db_function = str(Path.cwd().parent.parent / \"function\")\n",
    "file_path = str(Path.cwd().parent.parent / \"files\")\n",
    "fetch_path = file_path + r\"\\function\"\n",
    "\n",
    "import sys\n",
    "sys.path.append(db_function)\n",
    "sys.path.append(file_path)\n",
    "sys.path.append(fetch_path)\n",
    "\n",
    "from dotenv import load_dotenv\n",
    "\n",
    "from access_db import access_db\n",
    "from get_cols import get_cols\n",
    "from round_float64_columns import round_float64_columns\n",
    "from adjust_day_for_temp import adjust_day_based_on_tm_and_hour\n",
    "\n",
    "import os\n",
    "\n",
    "import requests\n",
    "\n",
    "# file fetch\n",
    "from get_temperature import get_temperature\n",
    "from wide_temperature import wide_temperature\n",
    "\n",
    "# github url\n",
    "from github_upload_url import main\n",
    "\n",
    "# create md\n",
    "from create_md import create_md\n",
    "\n",
    "# telegram\n",
    "from Telegrambot import TelegramBot\n",
    "\n",
    "import glob\n",
    "\n",
    "from time import sleep"
   ]
  },
  {
   "cell_type": "code",
   "execution_count": null,
   "metadata": {},
   "outputs": [],
   "source": [
    "load_dotenv()"
   ]
  },
  {
   "cell_type": "code",
   "execution_count": null,
   "metadata": {},
   "outputs": [],
   "source": [
    "# 🔹 특정 경로의 모든 .md 파일 삭제\n",
    "md_files = list(Path.cwd().glob(\"*.md\"))\n",
    "\n",
    "if not md_files:\n",
    "    print(\"📂 md 파일이 없습니다. 코드를 실행하지 않습니다.\")\n",
    "else:\n",
    "    for md_file in md_files:\n",
    "        try:\n",
    "            os.remove(md_file)\n",
    "            print(f\"🗑️ 삭제 완료: {md_file}\")\n",
    "        except Exception as e:\n",
    "            print(f\"❌ 삭제 실패: {md_file}, 오류: {e}\")"
   ]
  },
  {
   "cell_type": "code",
   "execution_count": 2,
   "metadata": {},
   "outputs": [],
   "source": [
    "exist_temperature_files = list(Path(file_path).glob(\"*.xlsx\"))"
   ]
  },
  {
   "cell_type": "code",
   "execution_count": 22,
   "metadata": {},
   "outputs": [
    {
     "name": "stdout",
     "output_type": "stream",
     "text": [
      "🗑️ 삭제 완료: e:\\OneDrive\\Github\\[i-MAES]\\[Collaborate]\\[Workspace]\\000. github_page\\Inundata.github.io\\_posts\\upload-data\\2025-02-03-temp.md\n"
     ]
    }
   ],
   "source": [
    "import glob\n",
    "# 🔹 특정 경로의 모든 .md 파일 삭제\n",
    "md_files = list(Path(os.getcwd()).glob(\"*.md\"))\n",
    "\n",
    "for md_file in md_files:\n",
    "    try:\n",
    "        os.remove(md_file)\n",
    "        print(f\"🗑️ 삭제 완료: {md_file}\")\n",
    "    except Exception as e:\n",
    "        print(f\"❌ 삭제 실패: {md_file}, 오류: {e}\")"
   ]
  },
  {
   "cell_type": "code",
   "execution_count": 18,
   "metadata": {},
   "outputs": [
    {
     "data": {
      "text/plain": [
       "[]"
      ]
     },
     "execution_count": 18,
     "metadata": {},
     "output_type": "execute_result"
    }
   ],
   "source": [
    "md_files"
   ]
  },
  {
   "cell_type": "code",
   "execution_count": 13,
   "metadata": {},
   "outputs": [
    {
     "name": "stdout",
     "output_type": "stream",
     "text": [
      "📂 현재 작업 디렉토리: e:\\OneDrive\\Github\\[i-MAES]\\[Collaborate]\\[Workspace]\\000. github_page\\Inundata.github.io\\_posts\\upload-data\n",
      "📂 디렉토리 내 파일 목록: ['2025-02-03-temp.md', 'db-pull.bat', 'db-pull.ipynb', 'db-pull.py']\n"
     ]
    }
   ],
   "source": [
    "import os\n",
    "\n",
    "print(f\"📂 현재 작업 디렉토리: {os.getcwd()}\")\n",
    "print(f\"📂 디렉토리 내 파일 목록: {os.listdir(os.getcwd())}\")\n"
   ]
  },
  {
   "cell_type": "code",
   "execution_count": 2,
   "metadata": {},
   "outputs": [
    {
     "data": {
      "text/plain": [
       "True"
      ]
     },
     "execution_count": 2,
     "metadata": {},
     "output_type": "execute_result"
    }
   ],
   "source": [
    "load_dotenv()"
   ]
  },
  {
   "cell_type": "code",
   "execution_count": 3,
   "metadata": {},
   "outputs": [],
   "source": [
    "host = os.getenv(\"HOST\")\n",
    "user = os.getenv(\"USER\")\n",
    "pw = os.getenv(\"PW\")\n",
    "target_db = os.getenv(\"iMAES_DB\")"
   ]
  },
  {
   "cell_type": "code",
   "execution_count": 4,
   "metadata": {},
   "outputs": [
    {
     "name": "stdout",
     "output_type": "stream",
     "text": [
      "Temperature table finished\n"
     ]
    }
   ],
   "source": [
    "cur, conn = access_db(host, user, pw, target_db)\n",
    "\n",
    "# temperature cols\n",
    "target_table = \"temperature\"\n",
    "temperature_cols = get_cols(cur, target_table)\n",
    "\n",
    "# fetch `temperature table`\n",
    "get_temperature(cur, temperature_cols, round_float64_columns)"
   ]
  },
  {
   "cell_type": "code",
   "execution_count": 5,
   "metadata": {},
   "outputs": [],
   "source": [
    "# temperature file\n",
    "temp_fname = [v for v in os.listdir(file_path) if v.startswith(\"temperature\")][0]\n",
    "wide_temp_fname = [v for v in os.listdir(file_path) if v.startswith(\"temperature_wide\")][0]\n",
    "\n",
    "# create wide temp.xlsx file\n",
    "wide_temperature(file_path, temp_fname)"
   ]
  },
  {
   "cell_type": "code",
   "execution_count": 6,
   "metadata": {},
   "outputs": [
    {
     "name": "stdout",
     "output_type": "stream",
     "text": [
      "🔹 기존 릴리즈 삭제 중...\n",
      "🗑️ 기존 릴리즈 삭제 완료: v1.0 (ID: 198036024)\n",
      "🔹 기존 릴리즈 없음 → 새 릴리즈 생성 중...\n",
      "✅ 파일 업로드 성공! 다운로드 링크: https://github.com/Inundata/Inundata.github.io/releases/download/v1.0/temperature_250203.xlsx\n",
      "✅ 파일 업로드 성공! 다운로드 링크: https://github.com/Inundata/Inundata.github.io/releases/download/v1.0/temperature_wide_250203.xlsx\n",
      "\n",
      "📥 데이터 다운로드  경로: ['https://github.com/Inundata/Inundata.github.io/releases/download/v1.0/temperature_250203.xlsx', 'https://github.com/Inundata/Inundata.github.io/releases/download/v1.0/temperature_wide_250203.xlsx']\n"
     ]
    }
   ],
   "source": [
    "# temperature file\n",
    "temp_fname = [v for v in os.listdir(file_path) if v.startswith(\"temperature\")][0]\n",
    "temp_wide_fname = [v for v in os.listdir(file_path) if v.startswith(\"temperature_wide\")][0]\n",
    "\n",
    "file_list = [temp_fname, temp_wide_fname]\n",
    "download_links = main(temp_fname, file_path, file_list)"
   ]
  },
  {
   "cell_type": "code",
   "execution_count": 23,
   "metadata": {},
   "outputs": [
    {
     "name": "stdout",
     "output_type": "stream",
     "text": [
      "md 파일 생성 완료\n"
     ]
    }
   ],
   "source": [
    "title = f\"{datetime.today().strftime('%Y-%m-%d')}기준 기온 데이터\"\n",
    "content = f\"\"\"\n",
    "\n",
    "{datetime.today().strftime('%Y-%m-%d')}기준 기온 데이터입니다.\n",
    "\n",
    "1. [Long version]({download_links[0]})\n",
    "2. [Wide version]({download_links[1]})\n",
    "\"\"\"\n",
    "create_md(title, content, os.getcwd())"
   ]
  },
  {
   "cell_type": "code",
   "execution_count": 71,
   "metadata": {},
   "outputs": [],
   "source": [
    "import pandas as pd\n",
    "import numpy as np\n",
    "from datetime import datetime\n",
    "pd.set_option('display.max_columns', None)\n",
    "\n",
    "stnIds = [108, 159, 143, 133, 156, 112, 114, 119]\n",
    "\n",
    "diff_dict = {}\n",
    "for stnId in stnIds:\n",
    "    new = pd.read_excel(r\"E:\\OneDrive\\Github\\[i-MAES]\\[Collaborate]\\[Workspace]\\000. github_page\\Inundata.github.io\\files\\temperature_wide_250204.xlsx\", sheet_name = f\"temp{stnId}1h\")\n",
    "    old = pd.read_excel(r\"E:\\OneDrive\\Github\\[i-MAES]\\★KOGAS\\1. Program\\1. MGDRI\\python\\MGDRI_v1.0\\Data_Management\\Temperature\\Temperature.xlsx\", sheet_name = f\"temp{stnId}p1h\", header = None)\n",
    "\n",
    "    new.drop(columns = [\"cat\"], inplace = True)\n",
    "\n",
    "    old.columns = new.columns\n",
    "\n",
    "    old[\"date\"] = old.apply(lambda x: datetime(int(x[\"year\"]), int(x[\"month\"]), int(x[\"day\"])), axis = 1)\n",
    "    new[\"date\"] = new.apply(lambda x: datetime(int(x[\"year\"]), int(x[\"month\"]), int(x[\"day\"])), axis = 1)\n",
    "\n",
    "    new = new.loc[new[\"date\"].isin(old[\"date\"].values)]\n",
    "\n",
    "    new.drop(columns = [\"date\"], inplace = True)\n",
    "    old.drop(columns = [\"date\"], inplace = True)\n",
    "\n",
    "    hour_cols = [f\"hour{v}\" for v in range(1, 25)]\n",
    "\n",
    "    new[hour_cols] = new[hour_cols].round(2)\n",
    "    old[hour_cols] = old[hour_cols].round(2)\n",
    "\n",
    "    other_cols = [\"rc_code\", \"year\", \"month\", \"day\"]\n",
    "\n",
    "    new[other_cols] = new[other_cols].astype(int)\n",
    "    old[other_cols] = old[other_cols].astype(int)\n",
    "\n",
    "    diff_new = new.loc[~np.all(new == old, axis = 1)]\n",
    "    diff_old = old.loc[~np.all(new == old, axis = 1)]\n",
    "\n",
    "    mask = diff_new != diff_old\n",
    "\n",
    "    diff_dict[stnId] = [diff_new, diff_old, mask]"
   ]
  },
  {
   "cell_type": "code",
   "execution_count": 81,
   "metadata": {},
   "outputs": [
    {
     "name": "stdout",
     "output_type": "stream",
     "text": [
      "108 : 6\n",
      "159 : 6\n",
      "143 : 6\n",
      "133 : 4\n",
      "156 : 5\n",
      "112 : 3\n",
      "114 : 4\n",
      "119 : 2\n"
     ]
    }
   ],
   "source": [
    "for stnId in stnIds:\n",
    "    print(f\"{stnId} : {(diff_dict[stnId][0] != diff_dict[stnId][1]).values.sum()}\")"
   ]
  }
 ],
 "metadata": {
  "kernelspec": {
   "display_name": "db",
   "language": "python",
   "name": "python3"
  },
  "language_info": {
   "codemirror_mode": {
    "name": "ipython",
    "version": 3
   },
   "file_extension": ".py",
   "mimetype": "text/x-python",
   "name": "python",
   "nbconvert_exporter": "python",
   "pygments_lexer": "ipython3",
   "version": "3.9.20"
  }
 },
 "nbformat": 4,
 "nbformat_minor": 2
}
